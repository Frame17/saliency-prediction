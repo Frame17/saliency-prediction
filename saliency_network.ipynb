{
 "cells": [
  {
   "cell_type": "code",
   "execution_count": 1,
   "id": "01b43052",
   "metadata": {
    "scrolled": true
   },
   "outputs": [],
   "source": [
    "base_path = '/Users/serhii/Desktop/saliency-prediction'\n",
    "sources_path = base_path + '/dataset_taskvis/source'\n",
    "target_task_free_path = base_path + '/dataset_taskvis/gt_tf/heatmaps_accum/10000/'\n",
    "target_task_specific_path = base_path + '/dataset_taskvis/gt/heatmaps_accum/10000/'\n",
    "\n",
    "task_free_parameters = base_path + '/model_20230205_123729_99'\n",
    "task_specific_parameters = base_path + '/model_20230205_191220_290'\n",
    "\n",
    "LABELS = {'A': 0, 'B': 1, 'C': 2}"
   ]
  },
  {
   "cell_type": "code",
   "execution_count": 2,
   "id": "62e9d48b",
   "metadata": {},
   "outputs": [
    {
     "name": "stderr",
     "output_type": "stream",
     "text": [
      "/Users/serhii/opt/anaconda3/envs/mlp/lib/python3.7/site-packages/torchvision/io/image.py:13: UserWarning: Failed to load image Python extension: dlopen(/Users/serhii/opt/anaconda3/envs/mlp/lib/python3.7/site-packages/torchvision/image.so, 0x0006): Symbol not found: __ZN2at4_ops19empty_memory_format4callEN3c108ArrayRefIxEENS2_8optionalINS2_10ScalarTypeEEENS5_INS2_6LayoutEEENS5_INS2_6DeviceEEENS5_IbEENS5_INS2_12MemoryFormatEEE\n",
      "  Referenced from: <3224DED3-FCE0-3B10-9D68-9EC019B2AFEC> /Users/serhii/opt/anaconda3/envs/mlp/lib/python3.7/site-packages/torchvision/image.so\n",
      "  Expected in:     <8B475637-3448-369D-8597-CB8AE9B8A985> /Users/serhii/opt/anaconda3/envs/mlp/lib/python3.7/site-packages/torch/lib/libtorch_cpu.dylib\n",
      "  warn(f\"Failed to load image Python extension: {e}\")\n"
     ]
    },
    {
     "ename": "NameError",
     "evalue": "name 'Dataset' is not defined",
     "output_type": "error",
     "traceback": [
      "\u001b[0;31m---------------------------------------------------------------------------\u001b[0m",
      "\u001b[0;31mNameError\u001b[0m                                 Traceback (most recent call last)",
      "\u001b[0;32m/var/folders/ym/8q0863zj3n57t1dxv18_wsb80000gn/T/ipykernel_32559/2695638529.py\u001b[0m in \u001b[0;36m<module>\u001b[0;34m\u001b[0m\n\u001b[1;32m     11\u001b[0m \u001b[0;32mfrom\u001b[0m \u001b[0mtqdm\u001b[0m \u001b[0;32mimport\u001b[0m \u001b[0mtqdm\u001b[0m\u001b[0;34m\u001b[0m\u001b[0;34m\u001b[0m\u001b[0m\n\u001b[1;32m     12\u001b[0m \u001b[0;34m\u001b[0m\u001b[0m\n\u001b[0;32m---> 13\u001b[0;31m \u001b[0;32mfrom\u001b[0m \u001b[0mfcn\u001b[0m \u001b[0;32mimport\u001b[0m \u001b[0mFCN\u001b[0m\u001b[0;34m\u001b[0m\u001b[0;34m\u001b[0m\u001b[0m\n\u001b[0m\u001b[1;32m     14\u001b[0m \u001b[0;32mfrom\u001b[0m \u001b[0mtask_free_branch\u001b[0m \u001b[0;32mimport\u001b[0m \u001b[0mTaskFreeBranch\u001b[0m\u001b[0;34m\u001b[0m\u001b[0;34m\u001b[0m\u001b[0m\n\u001b[1;32m     15\u001b[0m \u001b[0;32mfrom\u001b[0m \u001b[0mtask_specific_branch\u001b[0m \u001b[0;32mimport\u001b[0m \u001b[0mTaskSpecificBranch\u001b[0m\u001b[0;34m\u001b[0m\u001b[0;34m\u001b[0m\u001b[0m\n",
      "\u001b[0;32m~/Desktop/saliency-prediction/fcn.py\u001b[0m in \u001b[0;36m<module>\u001b[0;34m\u001b[0m\n\u001b[1;32m    101\u001b[0m \u001b[0;34m\u001b[0m\u001b[0m\n\u001b[1;32m    102\u001b[0m \u001b[0;34m\u001b[0m\u001b[0m\n\u001b[0;32m--> 103\u001b[0;31m \u001b[0;32mclass\u001b[0m \u001b[0mDataset\u001b[0m\u001b[0;34m(\u001b[0m\u001b[0mDataset\u001b[0m\u001b[0;34m)\u001b[0m\u001b[0;34m:\u001b[0m\u001b[0;34m\u001b[0m\u001b[0;34m\u001b[0m\u001b[0m\n\u001b[0m\u001b[1;32m    104\u001b[0m     \u001b[0;32mdef\u001b[0m \u001b[0m__init__\u001b[0m\u001b[0;34m(\u001b[0m\u001b[0mself\u001b[0m\u001b[0;34m,\u001b[0m \u001b[0msource_dir\u001b[0m\u001b[0;34m,\u001b[0m \u001b[0mtarget_dir\u001b[0m\u001b[0;34m,\u001b[0m \u001b[0mtransformations\u001b[0m\u001b[0;34m)\u001b[0m\u001b[0;34m:\u001b[0m\u001b[0;34m\u001b[0m\u001b[0;34m\u001b[0m\u001b[0m\n\u001b[1;32m    105\u001b[0m         \u001b[0mself\u001b[0m\u001b[0;34m.\u001b[0m\u001b[0msource_images\u001b[0m \u001b[0;34m=\u001b[0m \u001b[0;34m[\u001b[0m\u001b[0mos\u001b[0m\u001b[0;34m.\u001b[0m\u001b[0mpath\u001b[0m\u001b[0;34m.\u001b[0m\u001b[0mjoin\u001b[0m\u001b[0;34m(\u001b[0m\u001b[0msource_dir\u001b[0m\u001b[0;34m,\u001b[0m \u001b[0mx\u001b[0m\u001b[0;34m)\u001b[0m \u001b[0;32mfor\u001b[0m \u001b[0mx\u001b[0m \u001b[0;32min\u001b[0m \u001b[0msorted\u001b[0m\u001b[0;34m(\u001b[0m\u001b[0mos\u001b[0m\u001b[0;34m.\u001b[0m\u001b[0mlistdir\u001b[0m\u001b[0;34m(\u001b[0m\u001b[0msource_dir\u001b[0m\u001b[0;34m)\u001b[0m\u001b[0;34m)\u001b[0m\u001b[0;34m]\u001b[0m\u001b[0;34m\u001b[0m\u001b[0;34m\u001b[0m\u001b[0m\n",
      "\u001b[0;31mNameError\u001b[0m: name 'Dataset' is not defined"
     ]
    }
   ],
   "source": [
    "import os\n",
    "import cv2\n",
    "import torch\n",
    "import torch.nn as nn\n",
    "import torch.optim as optim\n",
    "import numpy as np\n",
    "from torch.utils.data import DataLoader, Dataset\n",
    "from torchvision import transforms\n",
    "import matplotlib.pyplot as plt\n",
    "from PIL import Image\n",
    "from tqdm import tqdm\n",
    "\n",
    "from fcn import FCN\n",
    "from task_free_branch import TaskFreeBranch\n",
    "from task_specific_branch import TaskSpecificBranch\n"
   ]
  },
  {
   "cell_type": "code",
   "execution_count": null,
   "id": "4d11e380",
   "metadata": {},
   "outputs": [],
   "source": [
    "class Dataset(Dataset):\n",
    "    def __init__(self, source_dir, target_tf, target_dir, transformations):\n",
    "        self.source_images = np.repeat([os.path.join(source_dir, x) for x in sorted(os.listdir(source_dir))], 3)\n",
    "        self.target_images = [os.path.join(target_dir, x) for x in sorted(os.listdir(target_dir))]\n",
    "        self.transformations = transformations\n",
    "        \n",
    "    \n",
    "    def __len__(self):\n",
    "        return len(self.target_images)\n",
    "    \n",
    "    \n",
    "    def __getitem__(self, idx):\n",
    "        source_path = self.source_images[idx]\n",
    "        source_img = Image.open(source_path).convert('RGB')\n",
    "        target_tf = Image.open(target_task_free_path + source_path.split('/')[-1].split('/')[-1])\n",
    "        target_ts = Image.open(self.target_images[idx])\n",
    "\n",
    "        task_label = target_ts.filename.split('_')[-1].split('.')[0]\n",
    "        task_label = nn.functional.one_hot(torch.tensor(LABELS[task_label]), 3).to(torch.float32)\n",
    "        \n",
    "        source_img = self.transformations(source_img)\n",
    "        target_tf = self.transformations(target_tf)\n",
    "        target_ts = self.transformations(target_ts)\n",
    "        return (source_img, target_tf, target_ts, task_label)\n",
    "\n",
    "\n",
    "def load_dataset():\n",
    "    transformations = transforms.Compose([transforms.Resize((224, 224)), transforms.ToTensor()])\n",
    "    dataset = Dataset(sources_path, target_task_free_path, target_task_specific_path, transformations)\n",
    "    return dataset"
   ]
  },
  {
   "cell_type": "code",
   "execution_count": null,
   "id": "6c7dd945",
   "metadata": {},
   "outputs": [],
   "source": [
    "import torch\n",
    "\n",
    "def pearson_correlation(x, y):\n",
    "    mean_x = x.mean()\n",
    "    mean_y = y.mean()\n",
    "    xm = x - mean_x\n",
    "    ym = y - mean_y\n",
    "    r_num = (xm * ym).sum()\n",
    "    r_den = torch.sqrt((xm ** 2).sum() * (ym ** 2).sum())\n",
    "    return r_num / r_den\n"
   ]
  },
  {
   "cell_type": "code",
   "execution_count": null,
   "id": "e01a92bb",
   "metadata": {},
   "outputs": [],
   "source": [
    "data_loader = DataLoader(load_dataset(), batch_size=1, shuffle=True)\n",
    "\n",
    "task_free_branch = FCN(1)\n",
    "task_specific_branch = TaskSpecificBranch()\n",
    "task_free_branch.load_state_dict(torch.load(task_free_parameters, map_location=torch.device('cpu')))\n",
    "task_specific_branch.load_state_dict(torch.load(task_specific_parameters, map_location=torch.device('cpu')))\n",
    "task_free_branch.eval()\n",
    "task_specific_branch.eval()\n",
    "\n",
    "\n",
    "for source_img, target_tf, target_ts, task_label in tqdm(data_loader):\n",
    "    pred_tf = task_free_branch(source_img)\n",
    "    pred_ts = task_specific_branch(source_img, task_label)\n",
    "    pred_combined = (pred_tf + pred_ts) / 2\n",
    "    target_combined = (target_tf + target_ts) / 2\n",
    "    print(f'CC: {pearson_correlation(pred_combined, target_combined)}, task label: {task_label}')\n",
    "    \n",
    "    fig, axs = plt.subplots(1, 2, figsize=(10, 10))\n",
    "    \n",
    "    alpha = .5\n",
    "    heatmap_ts = cv2.applyColorMap((pred_combined[0].permute(1, 2, 0).detach().numpy() * 255).astype(np.uint8), cv2.COLORMAP_JET)\n",
    "    heatmap_gt_ts = cv2.applyColorMap((target_combined[0].permute(1, 2, 0).detach().numpy() * 255).astype(np.uint8), cv2.COLORMAP_JET)\n",
    "    image = (source_img[0].permute(1, 2, 0).detach().numpy() * 255).astype(np.uint8)\n",
    "    \n",
    "    overlap_predicted_ts = cv2.addWeighted(heatmap_ts, alpha, image, 1 - alpha, 0)\n",
    "    overlap_gt_ts = cv2.addWeighted(heatmap_gt_ts, alpha, image, 1 - alpha, 0)\n",
    "    \n",
    "    axs[0].imshow(overlap_gt_ts, cmap='gray')\n",
    "    axs[1].imshow(overlap_predicted_ts, cmap='gray')\n",
    "    plt.show() \n"
   ]
  },
  {
   "cell_type": "code",
   "execution_count": null,
   "id": "4de56d60",
   "metadata": {},
   "outputs": [],
   "source": []
  }
 ],
 "metadata": {
  "kernelspec": {
   "display_name": "mlp",
   "language": "python",
   "name": "mlp"
  },
  "language_info": {
   "codemirror_mode": {
    "name": "ipython",
    "version": 3
   },
   "file_extension": ".py",
   "mimetype": "text/x-python",
   "name": "python",
   "nbconvert_exporter": "python",
   "pygments_lexer": "ipython3",
   "version": "3.7.9"
  }
 },
 "nbformat": 4,
 "nbformat_minor": 5
}
